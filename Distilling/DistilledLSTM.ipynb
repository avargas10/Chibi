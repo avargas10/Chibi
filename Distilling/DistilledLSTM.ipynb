{
 "cells": [
  {
   "cell_type": "code",
   "execution_count": 1,
   "id": "a22789b0-55f0-4828-9713-b99a8798eb5b",
   "metadata": {},
   "outputs": [],
   "source": [
    "source_folder = 'data'\n",
    "destination_folder = 'LSTM_output'"
   ]
  },
  {
   "cell_type": "code",
   "execution_count": 2,
   "id": "e270556c-ccc7-491d-aa9f-82c35d4db720",
   "metadata": {
    "tags": []
   },
   "outputs": [],
   "source": [
    "# Libraries\n",
    "\n",
    "import matplotlib.pyplot as plt\n",
    "import pandas as pd\n",
    "import torch\n",
    "import sys\n",
    "# Preliminaries\n",
    "from tqdm import tqdm\n",
    "from torchtext.legacy.data import Field, TabularDataset, BucketIterator\n",
    "\n",
    "# Models\n",
    "\n",
    "import torch.nn as nn\n",
    "from torch.nn.utils.rnn import pack_padded_sequence, pad_packed_sequence\n",
    "\n",
    "# Models\n",
    "\n",
    "import torch.nn as nn\n",
    "from transformers import BertTokenizer, BertForSequenceClassification\n",
    "\n",
    "# Training\n",
    "\n",
    "import torch.optim as optim\n",
    "\n",
    "# Evaluation\n",
    "\n",
    "from sklearn.metrics import accuracy_score, classification_report, confusion_matrix\n",
    "import seaborn as sns"
   ]
  },
  {
   "cell_type": "code",
   "execution_count": 3,
   "id": "33e4efbb-3dd6-4c49-b703-9435a8b5f83e",
   "metadata": {},
   "outputs": [
    {
     "name": "stdout",
     "output_type": "stream",
     "text": [
      "cuda:0\n"
     ]
    }
   ],
   "source": [
    "device = torch.device('cuda:0' if torch.cuda.is_available() else 'cpu')\n",
    "print(device)"
   ]
  },
  {
   "cell_type": "code",
   "execution_count": 4,
   "id": "4755c0aa-ef0b-4ce3-a997-2abc3807e652",
   "metadata": {},
   "outputs": [],
   "source": [
    "label_field = Field(sequential=False, use_vocab=False, batch_first=True, dtype=torch.float)\n",
    "text_field = Field(tokenize='spacy', lower=True, include_lengths=True, batch_first=True)\n",
    "fields = [('label', label_field), ('title', text_field), ('text', text_field), ('titletext', text_field)]\n",
    "\n",
    "# TabularDataset\n",
    "\n",
    "train, valid, test = TabularDataset.splits(path=source_folder, train='train.csv', validation='valid.csv', test='test.csv',\n",
    "                                           format='CSV', fields=fields, skip_header=True)\n",
    "\n",
    "# Iterators\n",
    "\n",
    "train_iter = BucketIterator(train, batch_size=32, sort_key=lambda x: len(x.text),\n",
    "                            device=device, sort=True, sort_within_batch=True)\n",
    "valid_iter = BucketIterator(valid, batch_size=32, sort_key=lambda x: len(x.text),\n",
    "                            device=device, sort=True, sort_within_batch=True)\n",
    "test_iter = BucketIterator(test, batch_size=32, sort_key=lambda x: len(x.text),\n",
    "                            device=device, sort=True, sort_within_batch=True)\n",
    "\n",
    "# Vocabulary\n",
    "\n",
    "text_field.build_vocab(train, min_freq=3)"
   ]
  },
  {
   "cell_type": "code",
   "execution_count": 5,
   "id": "1af6f710-548c-4e83-8de2-4a62a09a10ff",
   "metadata": {},
   "outputs": [],
   "source": [
    "class LSTM(nn.Module):\n",
    "    def __init__(self, dimension=128):\n",
    "        super(LSTM, self).__init__()\n",
    "\n",
    "        self.embedding = nn.Embedding(len(text_field.vocab), 300)\n",
    "        self.dimension = dimension\n",
    "        self.lstm = nn.LSTM(input_size=300,\n",
    "                            hidden_size=dimension,\n",
    "                            num_layers=1,\n",
    "                            batch_first=True,\n",
    "                            bidirectional=True)\n",
    "        self.drop = nn.Dropout(p=0.5)\n",
    "\n",
    "        self.fc = nn.Linear(2*dimension, 1)\n",
    "        \n",
    "        self.criterion_mse = torch.nn.MSELoss()\n",
    "        self.criterion_ce = torch.nn.BCELoss()\n",
    "        self.a = 0.7\n",
    "\n",
    "    def forward(self, text, text_len):\n",
    "\n",
    "        text_emb = self.embedding(text)\n",
    "\n",
    "        packed_input = pack_padded_sequence(text_emb, text_len, batch_first=True, enforce_sorted=False)\n",
    "        packed_output, _ = self.lstm(packed_input)\n",
    "        output, _ = pad_packed_sequence(packed_output, batch_first=True)\n",
    "\n",
    "        out_forward = output[range(len(output)), text_len - 1, :self.dimension]\n",
    "        out_reverse = output[:, 0, self.dimension:]\n",
    "        out_reduced = torch.cat((out_forward, out_reverse), 1)\n",
    "        text_fea = self.drop(out_reduced)\n",
    "        text_fea = self.fc(text_fea)\n",
    "        text_fea = torch.squeeze(text_fea, 1)\n",
    "        text_out = torch.sigmoid(text_fea)\n",
    "\n",
    "        return text_out\n",
    "    \n",
    "    def lossForDistilling(self,output,bert_logits,real_label):\n",
    "        return self.a * self.criterion_ce(output, real_label) + (1 - self.a) * self.criterion_mse(output, bert_logits)\n",
    "        "
   ]
  },
  {
   "cell_type": "code",
   "execution_count": 6,
   "id": "437a5cda-df7d-4dfb-9138-b688d7064dfd",
   "metadata": {},
   "outputs": [],
   "source": [
    "class BERT(nn.Module):\n",
    "\n",
    "    def __init__(self):\n",
    "        super(BERT, self).__init__()\n",
    "\n",
    "        options_name = \"bert-base-uncased\"\n",
    "        self.encoder = BertForSequenceClassification.from_pretrained(options_name)\n",
    "\n",
    "    def forward(self, text, label):\n",
    "        loss, logits = self.encoder(text, labels=label)[:2]\n",
    "\n",
    "        return loss, logits"
   ]
  },
  {
   "cell_type": "code",
   "execution_count": 7,
   "id": "bd2aad16-309c-46fe-86d7-54dda8c18703",
   "metadata": {},
   "outputs": [],
   "source": [
    "# Save and Load Functions\n",
    "\n",
    "def save_checkpoint(save_path, model, optimizer, valid_loss):\n",
    "\n",
    "    if save_path == None:\n",
    "        return\n",
    "    \n",
    "    state_dict = {'model_state_dict': model.state_dict(),\n",
    "                  'optimizer_state_dict': optimizer.state_dict(),\n",
    "                  'valid_loss': valid_loss}\n",
    "    \n",
    "    torch.save(state_dict, save_path)\n",
    "    print(f'Model saved to ==> {save_path}')\n",
    "\n",
    "\n",
    "def load_checkpoint(load_path, model, optimizer):\n",
    "\n",
    "    if load_path==None:\n",
    "        return\n",
    "    \n",
    "    state_dict = torch.load(load_path, map_location=device)\n",
    "    print(f'Model loaded from <== {load_path}')\n",
    "    \n",
    "    model.load_state_dict(state_dict['model_state_dict'])\n",
    "    optimizer.load_state_dict(state_dict['optimizer_state_dict'])\n",
    "    \n",
    "    return state_dict['valid_loss']\n",
    "\n",
    "\n",
    "def save_metrics(save_path, train_loss_list, valid_loss_list, global_steps_list):\n",
    "\n",
    "    if save_path == None:\n",
    "        return\n",
    "    \n",
    "    state_dict = {'train_loss_list': train_loss_list,\n",
    "                  'valid_loss_list': valid_loss_list,\n",
    "                  'global_steps_list': global_steps_list}\n",
    "    \n",
    "    torch.save(state_dict, save_path)\n",
    "    print(f'Model saved to ==> {save_path}')\n",
    "\n",
    "\n",
    "def load_metrics(load_path):\n",
    "\n",
    "    if load_path==None:\n",
    "        return\n",
    "    \n",
    "    state_dict = torch.load(load_path, map_location=device)\n",
    "    print(f'Model loaded from <== {load_path}')\n",
    "    \n",
    "    return state_dict['train_loss_list'], state_dict['valid_loss_list'], state_dict['global_steps_list']"
   ]
  },
  {
   "cell_type": "code",
   "execution_count": 8,
   "id": "19917ad0-377b-44ae-8f4d-4d9d9812de46",
   "metadata": {
    "tags": []
   },
   "outputs": [],
   "source": [
    "# Training Function\n",
    "\n",
    "def train(model,\n",
    "          all_logits,\n",
    "          optimizer,\n",
    "          criterion = nn.BCELoss(),\n",
    "          train_loader = train_iter,\n",
    "          valid_loader = valid_iter,\n",
    "          num_epochs = 5,\n",
    "          eval_every = len(train_iter) // 2,\n",
    "          file_path = destination_folder,\n",
    "          best_valid_loss = float(\"Inf\")):\n",
    "    \n",
    "    # initialize running values\n",
    "    running_loss = 0.0\n",
    "    valid_running_loss = 0.0\n",
    "    global_step = 0\n",
    "    current_batch = 0\n",
    "    train_loss_list = []\n",
    "    valid_loss_list = []\n",
    "    global_steps_list = []\n",
    "\n",
    "    # training loop\n",
    "    model.train()\n",
    "    for epoch in range(num_epochs):\n",
    "        current_batch = 0\n",
    "        for (labels, (title, title_len), (text, text_len), (titletext, titletext_len)), _ in train_loader:           \n",
    "            labels = labels.type(torch.LongTensor)           \n",
    "            labels = labels.to(device)\n",
    "            labels = labels.to(torch.float32)\n",
    "            titletext = titletext.type(torch.LongTensor)  \n",
    "            titletext = titletext.to(device)\n",
    "            titletext_len = titletext_len.to(\"cpu\")\n",
    "            output = model(titletext, titletext_len)\n",
    "            logits = all_logits[current_batch]\n",
    "            logits , _ = torch.max(logits, 1)\n",
    "            #print(logits)\n",
    "            loss = model.lossForDistilling(output, logits, labels)\n",
    "            optimizer.zero_grad()\n",
    "            loss.backward()\n",
    "            optimizer.step()\n",
    "            # update running values\n",
    "            running_loss += loss.item()\n",
    "            global_step += 1\n",
    "            current_batch += 1\n",
    "            \n",
    "            \n",
    "            \n",
    "            \n",
    "            # evaluation step\n",
    "            if global_step % eval_every == 0:\n",
    "                print(\"Evaluate\")\n",
    "                model.eval()\n",
    "                with torch.no_grad():                    \n",
    "                  # validation loop\n",
    "                  for (labels, (title, title_len), (text, text_len), (titletext, titletext_len)), _ in valid_loader:\n",
    "                      labels = labels.to(device)\n",
    "                      titletext = titletext.to(device)\n",
    "                      titletext_len = titletext_len.to(\"cpu\")\n",
    "                      output = model(titletext, titletext_len)\n",
    "                \n",
    "                      loss = criterion(output, labels)\n",
    "                      valid_running_loss += loss.item()\n",
    "\n",
    "                # evaluation\n",
    "                average_train_loss = running_loss / eval_every\n",
    "                average_valid_loss = valid_running_loss / len(valid_loader)\n",
    "                train_loss_list.append(average_train_loss)\n",
    "                valid_loss_list.append(average_valid_loss)\n",
    "                global_steps_list.append(global_step)\n",
    "\n",
    "                # resetting running values\n",
    "                running_loss = 0.0                \n",
    "                valid_running_loss = 0.0\n",
    "                model.train()\n",
    "\n",
    "                # print progress\n",
    "                print('Epoch [{}/{}], Step [{}/{}], Train Loss: {:.4f}, Valid Loss: {:.4f}'\n",
    "                      .format(epoch+1, num_epochs, global_step, num_epochs*len(train_loader),\n",
    "                              average_train_loss, average_valid_loss))\n",
    "                \n",
    "                # checkpoint\n",
    "                if best_valid_loss > average_valid_loss:\n",
    "                    best_valid_loss = average_valid_loss\n",
    "                    save_checkpoint(file_path + '/model.pt', model, optimizer, best_valid_loss)\n",
    "                    save_metrics(file_path + '/metrics.pt', train_loss_list, valid_loss_list, global_steps_list)\n",
    "            \n",
    "            \n",
    "    \n",
    "    save_metrics(file_path + '/metrics.pt', train_loss_list, valid_loss_list, global_steps_list)\n",
    "    print('Finished Training!')"
   ]
  },
  {
   "cell_type": "code",
   "execution_count": 9,
   "id": "16cf4df5-bf65-4c5d-925e-36b526485f9b",
   "metadata": {},
   "outputs": [],
   "source": [
    "def getLogits(model, train_loader):\n",
    "    logits = []\n",
    "    model.eval()\n",
    "    with torch.no_grad():\n",
    "        for (labels, (title, title_len), (text, text_len), (titletext, titletext_len)), _ in train_loader:\n",
    "\n",
    "                labels = labels.type(torch.LongTensor)           \n",
    "                labels = labels.to(device)\n",
    "                titletext = titletext.type(torch.LongTensor)  \n",
    "                titletext = titletext.to(device)\n",
    "                output = model(titletext, labels)\n",
    "                _, output = output\n",
    "                logits.append(output)\n",
    "    return logits"
   ]
  },
  {
   "cell_type": "code",
   "execution_count": 10,
   "id": "570777ba-f2a2-4bab-924a-4fb7b1e02dc7",
   "metadata": {},
   "outputs": [
    {
     "name": "stderr",
     "output_type": "stream",
     "text": [
      "Some weights of the model checkpoint at bert-base-uncased were not used when initializing BertForSequenceClassification: ['cls.predictions.transform.dense.weight', 'cls.predictions.bias', 'cls.seq_relationship.weight', 'cls.predictions.transform.dense.bias', 'cls.predictions.decoder.weight', 'cls.seq_relationship.bias', 'cls.predictions.transform.LayerNorm.weight', 'cls.predictions.transform.LayerNorm.bias']\n",
      "- This IS expected if you are initializing BertForSequenceClassification from the checkpoint of a model trained on another task or with another architecture (e.g. initializing a BertForSequenceClassification model from a BertForPreTraining model).\n",
      "- This IS NOT expected if you are initializing BertForSequenceClassification from the checkpoint of a model that you expect to be exactly identical (initializing a BertForSequenceClassification model from a BertForSequenceClassification model).\n",
      "Some weights of BertForSequenceClassification were not initialized from the model checkpoint at bert-base-uncased and are newly initialized: ['classifier.weight', 'classifier.bias']\n",
      "You should probably TRAIN this model on a down-stream task to be able to use it for predictions and inference.\n"
     ]
    },
    {
     "name": "stdout",
     "output_type": "stream",
     "text": [
      "16\n",
      "16\n"
     ]
    }
   ],
   "source": [
    "bert_pretrained = BERT().to(device)\n",
    "logits = getLogits(bert_pretrained,train_iter)\n",
    "print(len(logits))\n",
    "print(len(train_iter))"
   ]
  },
  {
   "cell_type": "code",
   "execution_count": 11,
   "id": "ac2d7046-893d-4c88-8d4c-1ad962c09309",
   "metadata": {},
   "outputs": [
    {
     "name": "stdout",
     "output_type": "stream",
     "text": [
      "Evaluate\n",
      "Epoch [1/10], Step [8/160], Train Loss: 0.5475, Valid Loss: 0.6627\n",
      "Model saved to ==> LSTM_output/model.pt\n",
      "Model saved to ==> LSTM_output/metrics.pt\n",
      "Evaluate\n",
      "Epoch [1/10], Step [16/160], Train Loss: 0.5272, Valid Loss: 0.6498\n",
      "Model saved to ==> LSTM_output/model.pt\n",
      "Model saved to ==> LSTM_output/metrics.pt\n",
      "Evaluate\n",
      "Epoch [2/10], Step [24/160], Train Loss: 0.4602, Valid Loss: 0.6382\n",
      "Model saved to ==> LSTM_output/model.pt\n",
      "Model saved to ==> LSTM_output/metrics.pt\n",
      "Evaluate\n",
      "Epoch [2/10], Step [32/160], Train Loss: 0.4493, Valid Loss: 0.6305\n",
      "Model saved to ==> LSTM_output/model.pt\n",
      "Model saved to ==> LSTM_output/metrics.pt\n",
      "Evaluate\n",
      "Epoch [3/10], Step [40/160], Train Loss: 0.4105, Valid Loss: 0.6116\n",
      "Model saved to ==> LSTM_output/model.pt\n",
      "Model saved to ==> LSTM_output/metrics.pt\n",
      "Evaluate\n",
      "Epoch [3/10], Step [48/160], Train Loss: 0.3754, Valid Loss: 0.5985\n",
      "Model saved to ==> LSTM_output/model.pt\n",
      "Model saved to ==> LSTM_output/metrics.pt\n",
      "Evaluate\n",
      "Epoch [4/10], Step [56/160], Train Loss: 0.3396, Valid Loss: 0.5750\n",
      "Model saved to ==> LSTM_output/model.pt\n",
      "Model saved to ==> LSTM_output/metrics.pt\n",
      "Evaluate\n",
      "Epoch [4/10], Step [64/160], Train Loss: 0.2914, Valid Loss: 0.5683\n",
      "Model saved to ==> LSTM_output/model.pt\n",
      "Model saved to ==> LSTM_output/metrics.pt\n",
      "Evaluate\n",
      "Epoch [5/10], Step [72/160], Train Loss: 0.2543, Valid Loss: 0.5542\n",
      "Model saved to ==> LSTM_output/model.pt\n",
      "Model saved to ==> LSTM_output/metrics.pt\n",
      "Evaluate\n",
      "Epoch [5/10], Step [80/160], Train Loss: 0.1931, Valid Loss: 0.5135\n",
      "Model saved to ==> LSTM_output/model.pt\n",
      "Model saved to ==> LSTM_output/metrics.pt\n",
      "Evaluate\n",
      "Epoch [6/10], Step [88/160], Train Loss: 0.2025, Valid Loss: 0.4647\n",
      "Model saved to ==> LSTM_output/model.pt\n",
      "Model saved to ==> LSTM_output/metrics.pt\n",
      "Evaluate\n",
      "Epoch [6/10], Step [96/160], Train Loss: 0.1575, Valid Loss: 0.5044\n",
      "Evaluate\n",
      "Epoch [7/10], Step [104/160], Train Loss: 0.1686, Valid Loss: 0.4833\n",
      "Evaluate\n",
      "Epoch [7/10], Step [112/160], Train Loss: 0.1287, Valid Loss: 0.4908\n",
      "Evaluate\n",
      "Epoch [8/10], Step [120/160], Train Loss: 0.1613, Valid Loss: 0.4760\n",
      "Evaluate\n",
      "Epoch [8/10], Step [128/160], Train Loss: 0.1186, Valid Loss: 0.4543\n",
      "Model saved to ==> LSTM_output/model.pt\n",
      "Model saved to ==> LSTM_output/metrics.pt\n",
      "Evaluate\n",
      "Epoch [9/10], Step [136/160], Train Loss: 0.1500, Valid Loss: 0.5111\n",
      "Evaluate\n",
      "Epoch [9/10], Step [144/160], Train Loss: 0.1190, Valid Loss: 0.4501\n",
      "Model saved to ==> LSTM_output/model.pt\n",
      "Model saved to ==> LSTM_output/metrics.pt\n",
      "Evaluate\n",
      "Epoch [10/10], Step [152/160], Train Loss: 0.1478, Valid Loss: 0.4754\n",
      "Evaluate\n",
      "Epoch [10/10], Step [160/160], Train Loss: 0.1160, Valid Loss: 0.5250\n",
      "Model saved to ==> LSTM_output/metrics.pt\n",
      "Finished Training!\n"
     ]
    }
   ],
   "source": [
    "model = LSTM().to(device)\n",
    "optimizer = optim.Adam(model.parameters(), lr=0.001)\n",
    "\n",
    "train(model=model,all_logits=logits, optimizer=optimizer, num_epochs=10)"
   ]
  },
  {
   "cell_type": "code",
   "execution_count": 12,
   "id": "296028c0-0bb4-46d6-adbc-6c8840ee7bad",
   "metadata": {},
   "outputs": [
    {
     "name": "stdout",
     "output_type": "stream",
     "text": [
      "Model loaded from <== LSTM_output/metrics.pt\n"
     ]
    },
    {
     "data": {
      "image/png": "[encoded data removed]",
      "text/plain": [
       "<Figure size 432x288 with 1 Axes>"
      ]
     },
     "metadata": {
      "needs_background": "light"
     },
     "output_type": "display_data"
    }
   ],
   "source": [
    "train_loss_list, valid_loss_list, global_steps_list = load_metrics(destination_folder + '/metrics.pt')\n",
    "plt.plot(global_steps_list, train_loss_list, label='Train')\n",
    "plt.plot(global_steps_list, valid_loss_list, label='Valid')\n",
    "plt.xlabel('Global Steps')\n",
    "plt.ylabel('Loss')\n",
    "plt.legend()\n",
    "plt.show() "
   ]
  },
  {
   "cell_type": "code",
   "execution_count": 13,
   "id": "85440e68-0e77-48d4-8c05-e299494675b7",
   "metadata": {},
   "outputs": [],
   "source": [
    "# Evaluation Function\n",
    "\n",
    "def evaluate(model, test_loader, version='title', threshold=0.5):\n",
    "    y_pred = []\n",
    "    y_true = []\n",
    "\n",
    "    model.eval()\n",
    "    with torch.no_grad():\n",
    "        for (labels, (title, title_len), (text, text_len), (titletext, titletext_len)), _ in test_loader:           \n",
    "            labels = labels.to(device)\n",
    "            titletext = titletext.to(device)\n",
    "            titletext_len = titletext_len.to(\"cpu\")\n",
    "            output = model(titletext, titletext_len)\n",
    "\n",
    "            output = (output > threshold).int()\n",
    "            y_pred.extend(output.tolist())\n",
    "            y_true.extend(labels.tolist())\n",
    "    \n",
    "    print('Classification Report:')\n",
    "    print(classification_report(y_true, y_pred, labels=[1,0], digits=4))\n",
    "    \n",
    "    cm = confusion_matrix(y_true, y_pred, labels=[1,0])\n",
    "    ax= plt.subplot()\n",
    "    sns.heatmap(cm, annot=True, ax = ax, cmap='Blues', fmt=\"d\")\n",
    "\n",
    "    ax.set_title('Confusion Matrix')\n",
    "\n",
    "    ax.set_xlabel('Predicted Labels')\n",
    "    ax.set_ylabel('True Labels')\n",
    "\n",
    "    ax.xaxis.set_ticklabels(['FAKE', 'REAL'])\n",
    "    ax.yaxis.set_ticklabels(['FAKE', 'REAL'])"
   ]
  },
  {
   "cell_type": "code",
   "execution_count": 14,
   "id": "159a9c1e-ecfd-4a43-a4c1-d26884479699",
   "metadata": {},
   "outputs": [
    {
     "name": "stdout",
     "output_type": "stream",
     "text": [
      "Model loaded from <== LSTM_output/model.pt\n",
      "Classification Report:\n",
      "              precision    recall  f1-score   support\n",
      "\n",
      "           1     0.8163    0.6392    0.7170      2816\n",
      "           0     0.7068    0.8581    0.7751      2854\n",
      "\n",
      "    accuracy                         0.7494      5670\n",
      "   macro avg     0.7616    0.7486    0.7461      5670\n",
      "weighted avg     0.7612    0.7494    0.7463      5670\n",
      "\n"
     ]
    },
    {
     "data": {
      "image/png": "[encoded data removed]",
      "text/plain": [
       "<Figure size 432x288 with 2 Axes>"
      ]
     },
     "metadata": {
      "needs_background": "light"
     },
     "output_type": "display_data"
    }
   ],
   "source": [
    "best_model = LSTM().to(device)\n",
    "optimizer = optim.Adam(best_model.parameters(), lr=0.001)\n",
    "\n",
    "load_checkpoint(destination_folder + '/model.pt', best_model, optimizer)\n",
    "evaluate(best_model, test_iter)"
   ]
  },
  {
   "cell_type": "code",
   "execution_count": null,
   "id": "c0b2ea90-e08e-42c2-8b75-f6afc9f77977",
   "metadata": {},
   "outputs": [],
   "source": []
  }
 ],
 "metadata": {
  "kernelspec": {
   "display_name": "Python 3 (ipykernel)",
   "language": "python",
   "name": "python3"
  },
  "language_info": {
   "codemirror_mode": {
    "name": "ipython",
    "version": 3
   },
   "file_extension": ".py",
   "mimetype": "text/x-python",
   "name": "python",
   "nbconvert_exporter": "python",
   "pygments_lexer": "ipython3",
   "version": "3.8.11"
  }
 },
 "nbformat": 4,
 "nbformat_minor": 5
}
