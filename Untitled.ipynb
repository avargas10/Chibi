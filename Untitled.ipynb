{
 "cells": [
  {
   "cell_type": "code",
   "execution_count": 12,
   "id": "3b11398c",
   "metadata": {},
   "outputs": [],
   "source": [
    "import torch\n",
    "from datasets import load_dataset\n",
    "import wandb\n",
    "from torchmetrics import BERTScore\n",
    "from torchmetrics import WER"
   ]
  },
  {
   "cell_type": "code",
   "execution_count": 3,
   "id": "844a6981",
   "metadata": {},
   "outputs": [
    {
     "name": "stderr",
     "output_type": "stream",
     "text": [
      "\u001b[34m\u001b[1mwandb\u001b[0m: Currently logged in as: \u001b[33mluisbarboza\u001b[0m (use `wandb login --relogin` to force relogin)\n"
     ]
    },
    {
     "data": {
      "text/plain": [
       "True"
      ]
     },
     "execution_count": 3,
     "metadata": {},
     "output_type": "execute_result"
    }
   ],
   "source": [
    "wandb.login()"
   ]
  },
  {
   "cell_type": "code",
   "execution_count": 4,
   "id": "734a1d76",
   "metadata": {},
   "outputs": [
    {
     "name": "stderr",
     "output_type": "stream",
     "text": [
      "Reusing dataset wikipedia (C:\\Users\\laba1\\.cache\\huggingface\\datasets\\wikipedia\\20200501.en\\1.0.0\\2fe8db1405aef67dff9fcc51e133e1f9c5b0106f9d9e9638188176d278fd5ff1)\n"
     ]
    },
    {
     "data": {
      "application/vnd.jupyter.widget-view+json": {
       "model_id": "61258b54da634e85a9a6a95fdecb46bc",
       "version_major": 2,
       "version_minor": 0
      },
      "text/plain": [
       "  0%|          | 0/1 [00:00<?, ?it/s]"
      ]
     },
     "metadata": {},
     "output_type": "display_data"
    }
   ],
   "source": [
    "dataset = load_dataset('wikipedia', '20200501.en')"
   ]
  },
  {
   "cell_type": "code",
   "execution_count": 5,
   "id": "12c57f6c",
   "metadata": {
    "scrolled": true
   },
   "outputs": [
    {
     "name": "stderr",
     "output_type": "stream",
     "text": [
      "Loading cached split indices for dataset at C:\\Users\\laba1\\.cache\\huggingface\\datasets\\wikipedia\\20200501.en\\1.0.0\\2fe8db1405aef67dff9fcc51e133e1f9c5b0106f9d9e9638188176d278fd5ff1\\cache-7ec1624a0fea4a4d.arrow and C:\\Users\\laba1\\.cache\\huggingface\\datasets\\wikipedia\\20200501.en\\1.0.0\\2fe8db1405aef67dff9fcc51e133e1f9c5b0106f9d9e9638188176d278fd5ff1\\cache-b6f542ac56f17ec7.arrow\n"
     ]
    }
   ],
   "source": [
    "dataset = dataset['train']\n",
    "dataset = dataset.train_test_split(test_size=0.1)"
   ]
  },
  {
   "cell_type": "code",
   "execution_count": 6,
   "id": "717f8e61",
   "metadata": {},
   "outputs": [
    {
     "name": "stdout",
     "output_type": "stream",
     "text": [
      "DatasetDict({\n",
      "    train: Dataset({\n",
      "        features: ['title', 'text'],\n",
      "        num_rows: 5470579\n",
      "    })\n",
      "    test: Dataset({\n",
      "        features: ['title', 'text'],\n",
      "        num_rows: 607843\n",
      "    })\n",
      "})\n"
     ]
    }
   ],
   "source": [
    "print(dataset)"
   ]
  },
  {
   "cell_type": "code",
   "execution_count": 7,
   "id": "26ca88b4",
   "metadata": {},
   "outputs": [
    {
     "data": {
      "text/html": [
       "\n",
       "                    Syncing run <strong><a href=\"https://wandb.ai/luisbarboza/proyecto2-dl/runs/6aelqgqp\" target=\"_blank\">avid-sound-2</a></strong> to <a href=\"https://wandb.ai/luisbarboza/proyecto2-dl\" target=\"_blank\">Weights & Biases</a> (<a href=\"https://docs.wandb.com/integrations/jupyter.html\" target=\"_blank\">docs</a>).<br/>\n",
       "\n",
       "                "
      ],
      "text/plain": [
       "<IPython.core.display.HTML object>"
      ]
     },
     "metadata": {},
     "output_type": "display_data"
    },
    {
     "data": {
      "text/html": [
       "<button onClick=\"this.nextSibling.style.display='block';this.style.display='none';\">Display W&B run</button><iframe src=\"https://wandb.ai/luisbarboza/proyecto2-dl/runs/6aelqgqp?jupyter=true\" style=\"border:none;width:100%;height:420px;display:none;\"></iframe>"
      ],
      "text/plain": [
       "<wandb.sdk.wandb_run.Run at 0x19b46317b50>"
      ]
     },
     "execution_count": 7,
     "metadata": {},
     "output_type": "execute_result"
    }
   ],
   "source": [
    "# 1. Start a new run\n",
    "wandb.init(project='proyecto2-dl', entity='luisbarboza')"
   ]
  },
  {
   "cell_type": "code",
   "execution_count": 8,
   "id": "01564fe6",
   "metadata": {},
   "outputs": [],
   "source": [
    "# 2. Save model inputs and hyperparameters\n",
    "config = wandb.config\n",
    "config.learning_rate = 0.01"
   ]
  },
  {
   "cell_type": "code",
   "execution_count": 9,
   "id": "8ed9b2eb",
   "metadata": {},
   "outputs": [],
   "source": [
    "predictions = [\"hello there\", \"general kenobi\"]\n",
    "references = [\"hello there\", \"master kenobi\"]"
   ]
  },
  {
   "cell_type": "code",
   "execution_count": 13,
   "id": "ac072b3f",
   "metadata": {},
   "outputs": [],
   "source": [
    "metric = WER()"
   ]
  },
  {
   "cell_type": "code",
   "execution_count": 15,
   "id": "2321e7b0",
   "metadata": {},
   "outputs": [],
   "source": [
    "wer_value = metric(predictions,references)\n",
    "wandb.log({\"WER\":wer_value})"
   ]
  },
  {
   "cell_type": "code",
   "execution_count": null,
   "id": "fcc33351",
   "metadata": {},
   "outputs": [],
   "source": [
    "perplexity  = torch.exp(loss)\n",
    "wandb.log({\"perplexity\":perplexity})"
   ]
  }
 ],
 "metadata": {
  "kernelspec": {
   "display_name": "Python 3 (ipykernel)",
   "language": "python",
   "name": "python3"
  },
  "language_info": {
   "codemirror_mode": {
    "name": "ipython",
    "version": 3
   },
   "file_extension": ".py",
   "mimetype": "text/x-python",
   "name": "python",
   "nbconvert_exporter": "python",
   "pygments_lexer": "ipython3",
   "version": "3.8.11"
  }
 },
 "nbformat": 4,
 "nbformat_minor": 5
}
